{
 "cells": [
  {
   "cell_type": "markdown",
   "metadata": {},
   "source": [
    "# Builtin function\n",
    "\n",
    "- sorted"
   ]
  },
  {
   "cell_type": "code",
   "execution_count": 2,
   "metadata": {},
   "outputs": [
    {
     "data": {
      "text/plain": [
       "[6, 4, 3, 2, 1]"
      ]
     },
     "execution_count": 2,
     "metadata": {},
     "output_type": "execute_result"
    }
   ],
   "source": [
    "L = [1, 3, 4, 2, 6]\n",
    "sorted(L, key=lambda x: x+1, reverse=True)"
   ]
  },
  {
   "cell_type": "markdown",
   "metadata": {},
   "source": [
    "- map"
   ]
  },
  {
   "cell_type": "code",
   "execution_count": 7,
   "metadata": {},
   "outputs": [
    {
     "data": {
      "text/plain": [
       "['a', 'b']"
      ]
     },
     "execution_count": 7,
     "metadata": {},
     "output_type": "execute_result"
    }
   ],
   "source": [
    "dct = {\"a\": 57, \"b\": 58}\n",
    "list(map(lambda key: key, dct))"
   ]
  },
  {
   "cell_type": "markdown",
   "metadata": {},
   "source": [
    "- filter"
   ]
  },
  {
   "cell_type": "code",
   "execution_count": 8,
   "metadata": {},
   "outputs": [
    {
     "data": {
      "text/plain": [
       "[2, 4]"
      ]
     },
     "execution_count": 8,
     "metadata": {},
     "output_type": "execute_result"
    }
   ],
   "source": [
    "nums = [1, 2, 3, 4]\n",
    "list(filter(lambda key: key % 2 == 0,  nums))"
   ]
  },
  {
   "cell_type": "markdown",
   "metadata": {},
   "source": [
    "- zip"
   ]
  },
  {
   "cell_type": "code",
   "execution_count": 13,
   "metadata": {},
   "outputs": [
    {
     "name": "stdout",
     "output_type": "stream",
     "text": [
      "[(1, 4), (2, 5), (3, 6)]\n",
      "(1, 4) (2, 5) (3, 6)\n",
      "<zip object at 0x7f4d63f8d780>\n",
      "[(1, 2, 3), (4, 5, 6)]\n"
     ]
    }
   ],
   "source": [
    "a = [1, 2, 3]\n",
    "b = [4, 5, 6]\n",
    "zipped = list(zip(a, b))\n",
    "print(zipped)\n",
    "print(*zipped)\n",
    "print(zip(*zipped))\n",
    "print(list(zip(*zipped)))"
   ]
  },
  {
   "cell_type": "markdown",
   "metadata": {},
   "source": [
    "- List comprehension (列表推导式)   \n",
    "A list comprehension is a syntactic construct available in some programming languages for creating a list based on existing lists"
   ]
  },
  {
   "cell_type": "code",
   "execution_count": 14,
   "metadata": {},
   "outputs": [
    {
     "name": "stdout",
     "output_type": "stream",
     "text": [
      "[0, 1, 4, 9, 16, 25, 36, 49, 64]\n"
     ]
    }
   ],
   "source": [
    "sqaures = [x**2 for x in range(9)]\n",
    "print(sqaures)"
   ]
  },
  {
   "cell_type": "markdown",
   "metadata": {},
   "source": [
    "- Dict comprehension"
   ]
  },
  {
   "cell_type": "code",
   "execution_count": 15,
   "metadata": {},
   "outputs": [
    {
     "name": "stdout",
     "output_type": "stream",
     "text": [
      "{0: 0, 1: 1, 2: 4, 3: 9, 4: 16, 5: 25, 6: 36, 7: 49, 8: 64}\n"
     ]
    }
   ],
   "source": [
    "squares_dict = {x: x**2 for x in range(9)}\n",
    "print(squares_dict)"
   ]
  },
  {
   "cell_type": "markdown",
   "metadata": {},
   "source": [
    "# Commonly used data-structures\n",
    "\n",
    "- list (not list in python)"
   ]
  },
  {
   "cell_type": "code",
   "execution_count": 17,
   "metadata": {},
   "outputs": [
    {
     "name": "stdout",
     "output_type": "stream",
     "text": [
      "4\n",
      "None\n",
      "[1, 2, 3]\n",
      "None\n",
      "[3, 2, 1]\n"
     ]
    }
   ],
   "source": [
    "arr = [1, 3, 2]\n",
    "arr.append(4)  # [1, 3, 2, 4]\n",
    "print(arr.pop()) # remove and return last element of arr\n",
    "print(arr.sort())\n",
    "print(arr)\n",
    "print(arr.reverse())\n",
    "print(arr)"
   ]
  },
  {
   "cell_type": "markdown",
   "metadata": {},
   "source": [
    "- set  (it's unordered !)"
   ]
  },
  {
   "cell_type": "code",
   "execution_count": 27,
   "metadata": {},
   "outputs": [
    {
     "name": "stdout",
     "output_type": "stream",
     "text": [
      "{1, 2, 3, 4}\n",
      "{1, 2, 3}\n",
      "False\n"
     ]
    }
   ],
   "source": [
    "s = {1, 3, 2}\n",
    "s.add(4) # {1, 2, 3, 4}\n",
    "print(s)\n",
    "s.remove(4)\n",
    "print(s)\n",
    "print(4 in s)"
   ]
  },
  {
   "cell_type": "code",
   "execution_count": 25,
   "metadata": {},
   "outputs": [
    {
     "name": "stdout",
     "output_type": "stream",
     "text": [
      "{1, 2, 3, 4, 5, 7}\n",
      "{999, 102, 231}\n"
     ]
    }
   ],
   "source": [
    "print({1,2,3,7,4,5})\n",
    "print({999, 231, 102})"
   ]
  },
  {
   "cell_type": "code",
   "execution_count": 24,
   "metadata": {},
   "outputs": [
    {
     "name": "stdout",
     "output_type": "stream",
     "text": [
      "<class 'dict'>\n"
     ]
    }
   ],
   "source": [
    "print(type({}))  # '{}' is an empty dict, rather than set !!!\n",
    "\n",
    "# so we should use set(...) rather than {...} to create set"
   ]
  },
  {
   "cell_type": "markdown",
   "metadata": {},
   "source": [
    "- dict"
   ]
  },
  {
   "cell_type": "code",
   "execution_count": 30,
   "metadata": {},
   "outputs": [
    {
     "name": "stdout",
     "output_type": "stream",
     "text": [
      "3\n",
      "0\n",
      "a\n",
      "b\n",
      "c\n",
      "key: a, val: 1\n",
      "key: b, val: 2\n",
      "key: c, val: 3\n"
     ]
    }
   ],
   "source": [
    "d = {'a': 1, 'b': 2}\n",
    "d['c'] = 3\n",
    "print(d['c']) # 3\n",
    "print(d.get('d', 0))  # 0,  it's getOrDefault\n",
    "\n",
    "for i in d: # traverse the keys of dict\n",
    "    print(i)\n",
    "\n",
    "for k, v in d.items():\n",
    "    print(f\"key: {k}, val: {v}\")"
   ]
  },
  {
   "cell_type": "markdown",
   "metadata": {},
   "source": [
    "# Sort and Search"
   ]
  },
  {
   "cell_type": "code",
   "execution_count": 31,
   "metadata": {},
   "outputs": [
    {
     "name": "stdout",
     "output_type": "stream",
     "text": [
      "2\n"
     ]
    }
   ],
   "source": [
    "def binary_search(arr, target):\n",
    "    low, high = 0, len(arr) - 1\n",
    "    while low <= high:\n",
    "        mid = (high - low) >> 1 + low\n",
    "        if target < arr[mid]:\n",
    "            high = mid - 1\n",
    "        elif target > arr[mid]:\n",
    "            low = mid + 1\n",
    "        else:\n",
    "            return mid\n",
    "    return -1         \n",
    "\n",
    "\n",
    "arr = [1,2,3,4,5]\n",
    "print(binary_search(arr, 3))"
   ]
  },
  {
   "cell_type": "code",
   "execution_count": null,
   "metadata": {},
   "outputs": [],
   "source": [
    "# https://leetcode.com/problems/sort-an-array/\n",
    "\n",
    "# try1\n",
    "# def quick_sort(arr):\n",
    "#     if len(arr) < 2:\n",
    "#         return arr\n",
    "#     pivot = arr[len(arr) // 2]\n",
    "#     low = [x for x in arr if x <= pivot]  # wrong: '<=' . when pivot is the maximum number of arr, the loop will be endless\n",
    "#     high = [x for x in arr if x > pivot]\n",
    "#     return quick_sort(low) + quick_sort(high)\n",
    "\n",
    "# try2\n",
    "# def quick_sort(arr):\n",
    "#     if len(arr) < 2:\n",
    "#         return arr\n",
    "#     pivot = arr[len(arr) // 2]\n",
    "#     low = [x for x in arr if x < pivot]\n",
    "#     mid = [x for x in arr if x == pivot]\n",
    "#     high = [x for x in arr if x > pivot]\n",
    "#     return quick_sort(low) + quick_sort(mid) + quick_sort(high)   # wrong: 'quick_sort(mid)'.  when multiple nums are equals to pivot, the loop will be endless\n",
    "\n",
    "# try3\n",
    "# def quick_sort(arr):\n",
    "#     if len(arr) < 2:\n",
    "#         return arr\n",
    "#     pivot = arr[len(arr) // 2]\n",
    "#     low = [x for x in arr if x < pivot]\n",
    "#     mid = [x for x in arr if x == pivot]\n",
    "#     high = [x for x in arr if x > pivot]\n",
    "\n",
    "#     return quick_sort(low) + mid + quick_sort(high)    # Err: memory limit exceeded\n",
    "\n",
    "\n",
    "# try4\n",
    "def swap(arr, a, b):\n",
    "    tmp = arr[a]\n",
    "    arr[a] = arr[b]\n",
    "    arr[b] = tmp\n",
    "\n",
    "def partition(arr, low, high, pivot):\n",
    "    while low < high:  # pit is in arr[low]\n",
    "        while low < high and arr[high] > pivot: \n",
    "            high -= 1\n",
    "        if low >= high: # must\n",
    "            break\n",
    "        arr[low] = arr[high] # now the pit is in arr[high]\n",
    "        low += 1\n",
    "        while low < high and arr[low] <= pivot:\n",
    "            low += 1\n",
    "        if low >= high: # must\n",
    "            break\n",
    "        arr[high] = arr[low]  # now the pit return to arr[low]\n",
    "        high -= 1\n",
    "    \n",
    "    arr[low] = pivot\n",
    "\n",
    "    return low\n",
    "\n",
    "def quick_sort(arr, low, high):\n",
    "    if low >= high:\n",
    "        return\n",
    "    swap(arr, low, (high - low) // 3 + low)  # middle will TLE\n",
    "    pivot = arr[low]\n",
    "    mid = partition(arr, low, high, pivot)\n",
    "    quick_sort(arr, low, mid-1)\n",
    "    quick_sort(arr, mid+1, high)\n",
    "\n",
    "    return arr"
   ]
  },
  {
   "cell_type": "code",
   "execution_count": 32,
   "metadata": {},
   "outputs": [
    {
     "name": "stdout",
     "output_type": "stream",
     "text": [
      "[]\n",
      "[0, 0]\n",
      "[1, 1]\n"
     ]
    }
   ],
   "source": [
    "L = [1, 1, 0, 0]\n",
    "print([x for x in L if x < 0])\n",
    "print([x for x in L if x == 0])\n",
    "print([x for x in L if x > 0])"
   ]
  }
 ],
 "metadata": {
  "kernelspec": {
   "display_name": "Python 3",
   "language": "python",
   "name": "python3"
  },
  "language_info": {
   "codemirror_mode": {
    "name": "ipython",
    "version": 3
   },
   "file_extension": ".py",
   "mimetype": "text/x-python",
   "name": "python",
   "nbconvert_exporter": "python",
   "pygments_lexer": "ipython3",
   "version": "3.10.12"
  }
 },
 "nbformat": 4,
 "nbformat_minor": 2
}
